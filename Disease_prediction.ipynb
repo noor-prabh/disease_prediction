{
  "nbformat": 4,
  "nbformat_minor": 0,
  "metadata": {
    "colab": {
      "provenance": [],
      "authorship_tag": "ABX9TyMVJN3dZmVRXHRE6c0zSSnF",
      "include_colab_link": true
    },
    "kernelspec": {
      "name": "python3",
      "display_name": "Python 3"
    },
    "language_info": {
      "name": "python"
    }
  },
  "cells": [
    {
      "cell_type": "markdown",
      "metadata": {
        "id": "view-in-github",
        "colab_type": "text"
      },
      "source": [
        "<a href=\"https://colab.research.google.com/github/noor-prabh/disease_prediction/blob/main/Disease_prediction.ipynb\" target=\"_parent\"><img src=\"https://colab.research.google.com/assets/colab-badge.svg\" alt=\"Open In Colab\"/></a>"
      ]
    },
    {
      "cell_type": "code",
      "execution_count": null,
      "metadata": {
        "id": "czUahmqnN4KX"
      },
      "outputs": [],
      "source": [
        "!pip install xgboost scikit-learn pandas matplotlib seaborn --quiet\n"
      ]
    },
    {
      "cell_type": "code",
      "source": [
        "import pandas as pd\n",
        "import numpy as np\n",
        "import matplotlib.pyplot as plt\n",
        "import seaborn as sns"
      ],
      "metadata": {
        "id": "BwA8TXYNOCwT"
      },
      "execution_count": null,
      "outputs": []
    },
    {
      "cell_type": "code",
      "source": [
        "from sklearn.datasets import load_breast_cancer, load_diabetes\n",
        "from sklearn.model_selection import train_test_split\n",
        "from sklearn.preprocessing import StandardScaler\n",
        "from sklearn.metrics import classification_report, confusion_matrix, accuracy_score\n",
        "from sklearn.linear_model import LogisticRegression\n",
        "from sklearn.ensemble import RandomForestClassifier\n",
        "from xgboost import XGBClassifier"
      ],
      "metadata": {
        "id": "1ZbjAZCCOI3k"
      },
      "execution_count": null,
      "outputs": []
    },
    {
      "cell_type": "code",
      "source": [
        "def run_models(X, y, dataset_name):\n",
        "  print(f\"n=={dataset_name} Dataset===\")\n",
        "\n",
        "  X_train, X_test, y_train, y_test = train_test_split(X, y, test_size=0.2, random_state=42)\n",
        "  scaler = StandardScaler()\n",
        "  X_train_scaled = scaler.fit_transform(X_train)\n",
        "  X_test_scaled = scaler.transform(X_test)\n",
        "\n",
        "  lr = LogisticRegression()\n",
        "  lr.fit(X_train_scaled, y_train)\n",
        "  lr_pred = lr.predict(X_test_scaled)\n",
        "\n",
        "  rf = RandomForestClassifier()\n",
        "  rf.fit(X_train, y_train)\n",
        "  rf_pred = rf.predict(X_test)\n",
        "\n",
        "  xgb = XGBClassifier()\n",
        "  xgb.fit(X_train, y_train)\n",
        "  xgb_pred = xgb.predict(X_test)\n",
        "\n",
        "  def evaluate_model(name, y_pred):\n",
        "      print(f\"\\n{name} Results:\")\n",
        "      print(\"Accuracy:\", accuracy_score(y_test, y_pred))\n",
        "      print(\"Confusion Matrix:\\n\", confusion_matrix(y_test, y_pred))\n",
        "      print(\"Classification Report:\\n\", classification_report(y_test, y_pred))\n",
        "\n",
        "  evaluate_model(\"Logistic Regression\", lr_pred)\n",
        "  evaluate_model(\"Random Forest\", rf_pred)\n",
        "  evaluate_model(\"XGBoost\", xgb_pred)\n",
        "\n"
      ],
      "metadata": {
        "id": "GU8rIuaWOKr7"
      },
      "execution_count": null,
      "outputs": []
    },
    {
      "cell_type": "code",
      "source": [
        "cancer = load_breast_cancer()\n",
        "cancer_df = pd.DataFrame(cancer.data, columns=cancer.feature_names)\n",
        "cancer_target = cancer.target\n",
        "run_models(cancer_df, cancer_target, \"Breast Cancer\")"
      ],
      "metadata": {
        "colab": {
          "base_uri": "https://localhost:8080/"
        },
        "id": "nKhRzJDIOZNl",
        "outputId": "d97186e6-335d-447a-9133-469e8cb51f20"
      },
      "execution_count": null,
      "outputs": [
        {
          "output_type": "stream",
          "name": "stdout",
          "text": [
            "n==Breast Cancer Dataset===\n",
            "\n",
            "Logistic Regression Results:\n",
            "Accuracy: 0.9736842105263158\n",
            "Confusion Matrix:\n",
            " [[41  2]\n",
            " [ 1 70]]\n",
            "Classification Report:\n",
            "               precision    recall  f1-score   support\n",
            "\n",
            "           0       0.98      0.95      0.96        43\n",
            "           1       0.97      0.99      0.98        71\n",
            "\n",
            "    accuracy                           0.97       114\n",
            "   macro avg       0.97      0.97      0.97       114\n",
            "weighted avg       0.97      0.97      0.97       114\n",
            "\n",
            "\n",
            "Random Forest Results:\n",
            "Accuracy: 0.9649122807017544\n",
            "Confusion Matrix:\n",
            " [[40  3]\n",
            " [ 1 70]]\n",
            "Classification Report:\n",
            "               precision    recall  f1-score   support\n",
            "\n",
            "           0       0.98      0.93      0.95        43\n",
            "           1       0.96      0.99      0.97        71\n",
            "\n",
            "    accuracy                           0.96       114\n",
            "   macro avg       0.97      0.96      0.96       114\n",
            "weighted avg       0.97      0.96      0.96       114\n",
            "\n",
            "\n",
            "XGBoost Results:\n",
            "Accuracy: 0.956140350877193\n",
            "Confusion Matrix:\n",
            " [[40  3]\n",
            " [ 2 69]]\n",
            "Classification Report:\n",
            "               precision    recall  f1-score   support\n",
            "\n",
            "           0       0.95      0.93      0.94        43\n",
            "           1       0.96      0.97      0.97        71\n",
            "\n",
            "    accuracy                           0.96       114\n",
            "   macro avg       0.96      0.95      0.95       114\n",
            "weighted avg       0.96      0.96      0.96       114\n",
            "\n"
          ]
        }
      ]
    },
    {
      "cell_type": "code",
      "source": [
        "diabetes_df = pd.read_csv('https://raw.githubusercontent.com/plotly/datasets/master/diabetes.csv')\n",
        "X_diabetes = diabetes_df.drop('Outcome', axis=1)\n",
        "y_diabetes = diabetes_df['Outcome']\n",
        "run_models(X_diabetes, y_diabetes, \"Diabetes\")"
      ],
      "metadata": {
        "id": "xhJ93rj7PFsW",
        "outputId": "fa2ec4c4-a3a9-460a-9008-da418acc3cf3",
        "colab": {
          "base_uri": "https://localhost:8080/"
        }
      },
      "execution_count": null,
      "outputs": [
        {
          "output_type": "stream",
          "name": "stdout",
          "text": [
            "n==Diabetes Dataset===\n",
            "\n",
            "Logistic Regression Results:\n",
            "Accuracy: 0.7532467532467533\n",
            "Confusion Matrix:\n",
            " [[79 20]\n",
            " [18 37]]\n",
            "Classification Report:\n",
            "               precision    recall  f1-score   support\n",
            "\n",
            "           0       0.81      0.80      0.81        99\n",
            "           1       0.65      0.67      0.66        55\n",
            "\n",
            "    accuracy                           0.75       154\n",
            "   macro avg       0.73      0.74      0.73       154\n",
            "weighted avg       0.76      0.75      0.75       154\n",
            "\n",
            "\n",
            "Random Forest Results:\n",
            "Accuracy: 0.7402597402597403\n",
            "Confusion Matrix:\n",
            " [[79 20]\n",
            " [20 35]]\n",
            "Classification Report:\n",
            "               precision    recall  f1-score   support\n",
            "\n",
            "           0       0.80      0.80      0.80        99\n",
            "           1       0.64      0.64      0.64        55\n",
            "\n",
            "    accuracy                           0.74       154\n",
            "   macro avg       0.72      0.72      0.72       154\n",
            "weighted avg       0.74      0.74      0.74       154\n",
            "\n",
            "\n",
            "XGBoost Results:\n",
            "Accuracy: 0.7077922077922078\n",
            "Confusion Matrix:\n",
            " [[73 26]\n",
            " [19 36]]\n",
            "Classification Report:\n",
            "               precision    recall  f1-score   support\n",
            "\n",
            "           0       0.79      0.74      0.76        99\n",
            "           1       0.58      0.65      0.62        55\n",
            "\n",
            "    accuracy                           0.71       154\n",
            "   macro avg       0.69      0.70      0.69       154\n",
            "weighted avg       0.72      0.71      0.71       154\n",
            "\n"
          ]
        }
      ]
    },
    {
      "cell_type": "code",
      "source": [],
      "metadata": {
        "id": "6vCI2IksPI9O"
      },
      "execution_count": null,
      "outputs": []
    }
  ]
}